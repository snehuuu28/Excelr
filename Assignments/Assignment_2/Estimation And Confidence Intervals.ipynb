{
 "cells": [
  {
   "cell_type": "markdown",
   "id": "a96288c3-352d-4c54-860f-fda5bad5c4b2",
   "metadata": {},
   "source": [
    "# Estimation And Confidence Intervals"
   ]
  },
  {
   "cell_type": "raw",
   "id": "b32a5c6d-26e0-4368-896f-0ff1cce0458f",
   "metadata": {},
   "source": [
    "Data\n",
    "A total of 15 print-heads were randomly selected and tested until failure. The durability of each print-head (in millions of characters) was recorded as follows:\n",
    "1.13, 1.55, 1.43, 0.92, 1.25, 1.36, 1.32, 0.85, 1.07, 1.48, 1.20, 1.33, 1.18, 1.22, 1.29\n"
   ]
  },
  {
   "cell_type": "markdown",
   "id": "e9364cdb-5b36-4567-9145-ee84ed38b885",
   "metadata": {},
   "source": [
    "# Task a: 99% Confidence Interval Using Sample Standard Deviation"
   ]
  },
  {
   "cell_type": "raw",
   "id": "3baff878-8be0-4bd4-9318-7c8d4eb1e108",
   "metadata": {},
   "source": [
    "Steps:\n",
    "1) Calculate the Sample Mean:\n",
    "   The sample mean is the average durability of the print-heads.\n",
    "2) Calculate the Sample Standard Deviation:\n",
    "   The sample standard deviation measures how much the individual durability values deviate from the mean.\n",
    "3) Use the t-Distribution:\n",
    "   # Why t-distribution? When the sample size is small (less than 30) and the population standard deviation is unknown, the t-  distribution is more accurate than the z-distribution. The t-distribution accounts for the extra uncertainty in small samples.\n",
    "   #  For a 99% confidence level and 𝑛−1 degrees of freedom (where 𝑛 is the sample size, so 𝑑𝑓=15−1=14),you can look up the t-value in a t-table or calculate it using a function.\n",
    "4) Calculate the Confidence Interval:\n",
    "    The confidence interval formula is:\n",
    "                            Confidence Interval = Sample Mean ± (t-value X ((Sample Standard Deviation𝑛)/sqrt of n)\n"
   ]
  },
  {
   "cell_type": "code",
   "execution_count": 3,
   "id": "7c39889f-be71-4575-b062-0e09a4b8411b",
   "metadata": {},
   "outputs": [
    {
     "data": {
      "text/plain": [
       "(1.0901973384384906, 1.3871359948948425)"
      ]
     },
     "execution_count": 3,
     "metadata": {},
     "output_type": "execute_result"
    }
   ],
   "source": [
    "import numpy as np\n",
    "import scipy.stats as stats\n",
    "\n",
    "# Durability data\n",
    "durability = [1.13, 1.55, 1.43, 0.92, 1.25, 1.36, 1.32, 0.85, 1.07, 1.48, 1.20, 1.33, 1.18, 1.22, 1.29]\n",
    "\n",
    "# Sample mean and standard deviation\n",
    "sample_mean = np.mean(durability)\n",
    "sample_std_dev = np.std(durability, ddof=1)\n",
    "n = len(durability)\n",
    "df = n - 1  # degrees of freedom\n",
    "\n",
    "# t-value for 99% confidence level\n",
    "t_value = stats.t.ppf(1 - 0.005, df)\n",
    "\n",
    "# Confidence interval\n",
    "margin_of_error = t_value * (sample_std_dev / np.sqrt(n))\n",
    "ci_lower = sample_mean - margin_of_error\n",
    "ci_upper = sample_mean + margin_of_error\n",
    "\n",
    "(ci_lower, ci_upper)\n"
   ]
  },
  {
   "cell_type": "markdown",
   "id": "95cd836f-935c-4ddd-bdfa-439ccaea78bc",
   "metadata": {},
   "source": [
    "# Task b: 99% Confidence Interval Using Known Population Standard Deviation"
   ]
  },
  {
   "cell_type": "raw",
   "id": "e81e9ce9-2917-4d72-b7bd-940541b1bc9a",
   "metadata": {},
   "source": [
    "Steps:\n",
    "1) Use the Known Population Standard Deviation:\n",
    "   If you know that the population standard deviation is 0.2 million characters, use this value instead of the sample standard deviation.\n",
    "2) Use the z-Distribution:\n",
    "   Why z-distribution? When the population standard deviation is known, the z-distribution provides a more precise confidence interval.\n",
    "3) z-value: For a 99% confidence level, you can look up the z-value in a z-table (approximately 2.576).\n",
    "4) Calculate the Confidence Interval:"
   ]
  },
  {
   "cell_type": "code",
   "execution_count": 5,
   "id": "2e6a9ba1-0923-43c1-98c2-78e3554c99ea",
   "metadata": {},
   "outputs": [
    {
     "data": {
      "text/plain": [
       "(1.1056514133957607, 1.3716819199375725)"
      ]
     },
     "execution_count": 5,
     "metadata": {},
     "output_type": "execute_result"
    }
   ],
   "source": [
    "# Given population standard deviation\n",
    "population_std_dev = 0.2\n",
    "\n",
    "# z-value for 99% confidence level\n",
    "z_value = stats.norm.ppf(1 - 0.005)\n",
    "\n",
    "# Confidence interval\n",
    "margin_of_error = z_value * (population_std_dev / np.sqrt(n))\n",
    "ci_lower = sample_mean - margin_of_error\n",
    "ci_upper = sample_mean + margin_of_error\n",
    "\n",
    "(ci_lower, ci_upper)\n"
   ]
  },
  {
   "cell_type": "markdown",
   "id": "0bd710d8-07d9-4d1a-a834-70ea563c8f01",
   "metadata": {},
   "source": [
    "# Summary"
   ]
  },
  {
   "cell_type": "raw",
   "id": "06b80d37-5dca-4f0e-b670-e7d26078b69e",
   "metadata": {},
   "source": [
    "Task a:When the population standard deviation is unknown, use the t-distribution and the sample standard deviation to calculate the confidence interval.\n",
    "\n",
    "Task b: When the population standard deviation is known, use the z-distribution to calculate the confidence interval.\n",
    "These steps help you estimate the true average durability of print-heads based on the small sample with 99% confidence."
   ]
  },
  {
   "cell_type": "code",
   "execution_count": null,
   "id": "2b1b25ea-6233-4d54-9bba-e998ce860f6f",
   "metadata": {},
   "outputs": [],
   "source": []
  }
 ],
 "metadata": {
  "kernelspec": {
   "display_name": "Python 3 (ipykernel)",
   "language": "python",
   "name": "python3"
  },
  "language_info": {
   "codemirror_mode": {
    "name": "ipython",
    "version": 3
   },
   "file_extension": ".py",
   "mimetype": "text/x-python",
   "name": "python",
   "nbconvert_exporter": "python",
   "pygments_lexer": "ipython3",
   "version": "3.12.4"
  }
 },
 "nbformat": 4,
 "nbformat_minor": 5
}
